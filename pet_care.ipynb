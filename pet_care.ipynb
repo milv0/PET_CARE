{
 "cells": [
  {
   "cell_type": "code",
   "execution_count": 1,
   "metadata": {},
   "outputs": [],
   "source": [
    "import os\n",
    "import json\n",
    "import cv2\n",
    "import numpy as np\n",
    "from sklearn.model_selection import train_test_split\n",
    "from tensorflow.keras import layers, models\n"
   ]
  },
  {
   "cell_type": "code",
   "execution_count": 2,
   "metadata": {},
   "outputs": [],
   "source": [
    "\n",
    "# JSON 파일 로드 함수\n",
    "def load_json(json_path):\n",
    "    with open(json_path, 'r') as json_file:\n",
    "        return json.load(json_file)\n",
    "\n",
    "# 데이터 로딩 및 전처리\n",
    "data_path = \"/Users/brianmg/Desktop/New_Sample/라벨링데이터/TL01/반려묘/피부/일반카메라/유증상/A2_비듬_각질_상피성잔고리\"  # 데이터 폴더 경로 설정\n",
    "image_paths = [file for file in os.listdir(data_path) if file.endswith('.jpg')]\n",
    "label_paths = [file for file in os.listdir(data_path) if file.endswith('.json')]\n"
   ]
  },
  {
   "cell_type": "code",
   "execution_count": null,
   "metadata": {},
   "outputs": [],
   "source": [
    "\n",
    "# 데이터셋 구성\n",
    "X_data = []\n",
    "Y_labels = []\n",
    "\n",
    "for image_path in image_paths:\n",
    "    # 이미지 로드 및 전처리\n",
    "    image = cv2.imread(os.path.join(data_path, image_path))\n",
    "    image = cv2.cvtColor(image, cv2.COLOR_BGR2RGB)\n",
    "    image = image / 255.0  # 정규화\n",
    "\n",
    "    # JSON 파일로부터 라벨 로드\n",
    "    json_filename = image_path.replace('.jpg', '.json')\n",
    "    json_path = os.path.join(data_path, json_filename)\n",
    "    json_data = load_json(json_path)\n",
    "\n",
    "    # 라벨 정보 추출\n",
    "    labels = []\n",
    "    for label_info in json_data['labelingInfo']:\n",
    "        if 'polygon' in label_info:\n",
    "            label = label_info['polygon']['label']\n",
    "            vertices = label_info['polygon']['location'][0]\n",
    "            labels.append({'label': label, 'vertices': vertices})\n",
    "        elif 'box' in label_info:\n",
    "            label = label_info['box']['label']\n",
    "            box_info = label_info['box']['location'][0]\n",
    "            x, y, w, h = box_info['x'], box_info['y'], box_info['width'], box_info['height']\n",
    "            vertices = np.array([[x, y], [x + w, y], [x + w, y + h], [x, y + h]])\n",
    "            labels.append({'label': label, 'vertices': vertices})\n",
    "\n",
    "    # 데이터셋에 추가\n",
    "    X_data.append(image)\n",
    "    Y_labels.append(labels)"
   ]
  },
  {
   "cell_type": "code",
   "execution_count": null,
   "metadata": {},
   "outputs": [],
   "source": [
    "# 데이터셋 분리 (필요에 따라 train/test를 적절히 조절)\n",
    "X_train, X_test, Y_train, Y_test = train_test_split(X_data, Y_labels, test_size=0.2, random_state=42)\n",
    "\n",
    "# 모델 정의\n",
    "model = models.Sequential([\n",
    "    layers.Conv2D(32, (3, 3), activation='relu', input_shape=(image.shape[0], image.shape[1], 3)),\n",
    "    layers.MaxPooling2D((2, 2)),\n",
    "    layers.Flatten(),\n",
    "    layers.Dense(64, activation='relu'),\n",
    "    layers.Dense(1, activation='softmax')  # 클래스 수는 라벨의 개수에 따라 다름\n",
    "])"
   ]
  },
  {
   "cell_type": "code",
   "execution_count": null,
   "metadata": {},
   "outputs": [],
   "source": [
    "for image_path in image_paths:\n",
    "    # 이미지 로드 및 전처리\n",
    "    image = cv2.imread(os.path.join(data_path, image_path))\n",
    "    image = cv2.cvtColor(image, cv2.COLOR_BGR2RGB)\n",
    "    image = image / 255.0  # 정규화\n",
    "\n",
    "    # JSON 파일로부터 라벨 로드\n",
    "    json_filename = image_path.replace('.jpg', '.json')\n",
    "    json_path = os.path.join(data_path, json_filename)\n",
    "    json_data = load_json(json_path)\n",
    "\n",
    "    # 라벨 정보 추출\n",
    "    labels = []\n",
    "    for label_info in json_data['labelingInfo']:\n",
    "        if 'polygon' in label_info:\n",
    "            label = label_info['polygon']['label']\n",
    "            vertices = label_info['polygon']['location'][0]\n",
    "            labels.append({'label': label, 'vertices': vertices})\n",
    "        elif 'box' in label_info:\n",
    "            label = label_info['box']['label']\n",
    "            box_info = label_info['box']['location'][0]\n",
    "            x, y, w, h = box_info['x'], box_info['y'], box_info['width'], box_info['height']\n",
    "            vertices = np.array([[x, y], [x + w, y], [x + w, y + h], [x, y + h]])\n",
    "            labels.append({'label': label, 'vertices': vertices})\n",
    "\n",
    "    # 데이터셋에 추가\n",
    "    X_data.append(image)\n",
    "    Y_labels.append(labels)"
   ]
  },
  {
   "cell_type": "code",
   "execution_count": null,
   "metadata": {},
   "outputs": [],
   "source": [
    "\n",
    "# 데이터셋 분리 (필요에 따라 train/test를 적절히 조절)\n",
    "X_train, X_test, Y_train, Y_test = train_test_split(X_data, Y_labels, test_size=0.2, random_state=42)\n",
    "\n",
    "# 모델 정의\n",
    "model = models.Sequential([\n",
    "    layers.Conv2D(32, (3, 3), activation='relu', input_shape=(image.shape[0], image.shape[1], 3)),\n",
    "    layers.MaxPooling2D((2, 2)),\n",
    "    layers.Flatten(),\n",
    "    layers.Dense(64, activation='relu'),\n",
    "    layers.Dense(1, activation='softmax')  # 클래스 수는 라벨의 개수에 따라 다름\n",
    "])"
   ]
  },
  {
   "cell_type": "code",
   "execution_count": null,
   "metadata": {},
   "outputs": [],
   "source": [
    "# 모델 컴파일\n",
    "model.compile(optimizer='adam', loss='categorical_crossentropy', metrics=['accuracy'])\n",
    "\n",
    "# 모델 학습\n",
    "model.fit(np.array(X_train), np.array(Y_train), epochs=10, validation_data=(np.array(X_test), np.array(Y_test)))\n",
    "\n",
    "# 모델 평가\n",
    "test_loss, test_acc = model.evaluate(np.array(X_test), np.array(Y_test))\n",
    "print(f\"Test Accuracy: {test_acc}\")"
   ]
  }
 ],
 "metadata": {
  "kernelspec": {
   "display_name": "qbz-env",
   "language": "python",
   "name": "python3"
  },
  "language_info": {
   "codemirror_mode": {
    "name": "ipython",
    "version": 3
   },
   "file_extension": ".py",
   "mimetype": "text/x-python",
   "name": "python",
   "nbconvert_exporter": "python",
   "pygments_lexer": "ipython3",
   "version": "3.11.3"
  }
 },
 "nbformat": 4,
 "nbformat_minor": 2
}
